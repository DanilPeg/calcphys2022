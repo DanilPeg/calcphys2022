{
 "cells": [
  {
   "cell_type": "code",
   "execution_count": 141,
   "id": "b3723955",
   "metadata": {},
   "outputs": [],
   "source": [
    "#нет 54, 63, 66, 68, 73, 75"
   ]
  },
  {
   "cell_type": "code",
   "execution_count": null,
   "id": "f8e06e97",
   "metadata": {},
   "outputs": [],
   "source": [
    "import numpy as np #1. Import the numpy package under the name `np`"
   ]
  },
  {
   "cell_type": "code",
   "execution_count": 2,
   "id": "a41a4e15",
   "metadata": {},
   "outputs": [
    {
     "data": {
      "text/plain": [
       "'1.21.5'"
      ]
     },
     "execution_count": 2,
     "metadata": {},
     "output_type": "execute_result"
    }
   ],
   "source": [
    "np.version.version #2 Print the numpy version and the configuration\n"
   ]
  },
  {
   "cell_type": "code",
   "execution_count": 3,
   "id": "49b19dcd",
   "metadata": {},
   "outputs": [
    {
     "name": "stdout",
     "output_type": "stream",
     "text": [
      "blas_mkl_info:\n",
      "    libraries = ['mkl_rt']\n",
      "    library_dirs = ['C:/Users/dpego/anaconda3\\\\Library\\\\lib']\n",
      "    define_macros = [('SCIPY_MKL_H', None), ('HAVE_CBLAS', None)]\n",
      "    include_dirs = ['C:/Users/dpego/anaconda3\\\\Library\\\\include']\n",
      "blas_opt_info:\n",
      "    libraries = ['mkl_rt']\n",
      "    library_dirs = ['C:/Users/dpego/anaconda3\\\\Library\\\\lib']\n",
      "    define_macros = [('SCIPY_MKL_H', None), ('HAVE_CBLAS', None)]\n",
      "    include_dirs = ['C:/Users/dpego/anaconda3\\\\Library\\\\include']\n",
      "lapack_mkl_info:\n",
      "    libraries = ['mkl_rt']\n",
      "    library_dirs = ['C:/Users/dpego/anaconda3\\\\Library\\\\lib']\n",
      "    define_macros = [('SCIPY_MKL_H', None), ('HAVE_CBLAS', None)]\n",
      "    include_dirs = ['C:/Users/dpego/anaconda3\\\\Library\\\\include']\n",
      "lapack_opt_info:\n",
      "    libraries = ['mkl_rt']\n",
      "    library_dirs = ['C:/Users/dpego/anaconda3\\\\Library\\\\lib']\n",
      "    define_macros = [('SCIPY_MKL_H', None), ('HAVE_CBLAS', None)]\n",
      "    include_dirs = ['C:/Users/dpego/anaconda3\\\\Library\\\\include']\n",
      "Supported SIMD extensions in this NumPy install:\n",
      "    baseline = SSE,SSE2,SSE3\n",
      "    found = SSSE3,SSE41,POPCNT,SSE42,AVX,F16C,FMA3,AVX2\n",
      "    not found = AVX512F,AVX512CD,AVX512_SKX,AVX512_CLX,AVX512_CNL\n"
     ]
    }
   ],
   "source": [
    "np.show_config()"
   ]
  },
  {
   "cell_type": "code",
   "execution_count": 4,
   "id": "95cea225",
   "metadata": {},
   "outputs": [
    {
     "name": "stdout",
     "output_type": "stream",
     "text": [
      "[0. 0. 0. 0. 0. 0. 0. 0. 0. 0.]\n"
     ]
    }
   ],
   "source": [
    "print(np.zeros(10)) #3 Create a null vector of size 10"
   ]
  },
  {
   "cell_type": "code",
   "execution_count": 5,
   "id": "6a03f9ee",
   "metadata": {},
   "outputs": [
    {
     "name": "stdout",
     "output_type": "stream",
     "text": [
      "10 = число элементов массива\n",
      "4 = сколько один элемент занимает в памяти (в байтах)\n",
      "40 = объем памяти, занимаемый массивом (в байтах)\n"
     ]
    }
   ],
   "source": [
    "x = np.arange(10) #4 How to find the memory size of any array\n",
    "print(f'{x.size} = число элементов массива',f'{x.itemsize} = сколько один элемент занимает в памяти (в байтах)', sep='\\n')\n",
    "print(f'{x.size * x.itemsize} = объем памяти, занимаемый массивом (в байтах)')"
   ]
  },
  {
   "cell_type": "code",
   "execution_count": 9,
   "id": "80795a5b",
   "metadata": {},
   "outputs": [
    {
     "name": "stdout",
     "output_type": "stream",
     "text": [
      "add(x1, x2, /, out=None, *, where=True, casting='same_kind', order='K', dtype=None, subok=True[, signature, extobj])\n",
      "\n",
      "Add arguments element-wise.\n",
      "\n",
      "Parameters\n",
      "----------\n",
      "x1, x2 : array_like\n",
      "    The arrays to be added.\n",
      "    If ``x1.shape != x2.shape``, they must be broadcastable to a common\n",
      "    shape (which becomes the shape of the output).\n",
      "out : ndarray, None, or tuple of ndarray and None, optional\n",
      "    A location into which the result is stored. If provided, it must have\n",
      "    a shape that the inputs broadcast to. If not provided or None,\n",
      "    a freshly-allocated array is returned. A tuple (possible only as a\n",
      "    keyword argument) must have length equal to the number of outputs.\n",
      "where : array_like, optional\n",
      "    This condition is broadcast over the input. At locations where the\n",
      "    condition is True, the `out` array will be set to the ufunc result.\n",
      "    Elsewhere, the `out` array will retain its original value.\n",
      "    Note that if an uninitialized `out` array is created via the default\n",
      "    ``out=None``, locations within it where the condition is False will\n",
      "    remain uninitialized.\n",
      "**kwargs\n",
      "    For other keyword-only arguments, see the\n",
      "    :ref:`ufunc docs <ufuncs.kwargs>`.\n",
      "\n",
      "Returns\n",
      "-------\n",
      "add : ndarray or scalar\n",
      "    The sum of `x1` and `x2`, element-wise.\n",
      "    This is a scalar if both `x1` and `x2` are scalars.\n",
      "\n",
      "Notes\n",
      "-----\n",
      "Equivalent to `x1` + `x2` in terms of array broadcasting.\n",
      "\n",
      "Examples\n",
      "--------\n",
      ">>> np.add(1.0, 4.0)\n",
      "5.0\n",
      ">>> x1 = np.arange(9.0).reshape((3, 3))\n",
      ">>> x2 = np.arange(3.0)\n",
      ">>> np.add(x1, x2)\n",
      "array([[  0.,   2.,   4.],\n",
      "       [  3.,   5.,   7.],\n",
      "       [  6.,   8.,  10.]])\n",
      "\n",
      "The ``+`` operator can be used as a shorthand for ``np.add`` on ndarrays.\n",
      "\n",
      ">>> x1 = np.arange(9.0).reshape((3, 3))\n",
      ">>> x2 = np.arange(3.0)\n",
      ">>> x1 + x2\n",
      "array([[ 0.,  2.,  4.],\n",
      "       [ 3.,  5.,  7.],\n",
      "       [ 6.,  8., 10.]])\n",
      "None\n"
     ]
    }
   ],
   "source": [
    "print(np.info(np.add)) #5 How to get the documentation of the numpy add function from the command line?"
   ]
  },
  {
   "cell_type": "code",
   "execution_count": 10,
   "id": "7c075028",
   "metadata": {},
   "outputs": [
    {
     "name": "stdout",
     "output_type": "stream",
     "text": [
      "[0. 0. 0. 0. 1. 0. 0. 0. 0. 0.]\n"
     ]
    }
   ],
   "source": [
    "#6  Create a null vector of size 10 but the fifth value which is 1\n",
    "a = np.zeros(10)\n",
    "a[4] = 1\n",
    "print(a)"
   ]
  },
  {
   "cell_type": "code",
   "execution_count": 11,
   "id": "87a9e923",
   "metadata": {},
   "outputs": [
    {
     "name": "stdout",
     "output_type": "stream",
     "text": [
      "[10 11 12 13 14 15 16 17 18 19 20 21 22 23 24 25 26 27 28 29 30 31 32 33\n",
      " 34 35 36 37 38 39 40 41 42 43 44 45 46 47 48 49]\n"
     ]
    }
   ],
   "source": [
    "#7. Create a vector with values ranging from 10 to 49 \n",
    "print(np.arange(10,50))"
   ]
  },
  {
   "cell_type": "code",
   "execution_count": 13,
   "id": "ecc06900",
   "metadata": {},
   "outputs": [
    {
     "name": "stdout",
     "output_type": "stream",
     "text": [
      "[9 8 7 6 5 4 3 2 1 0] [9 8 7 6 5 4 3 2 1 0]\n"
     ]
    }
   ],
   "source": [
    "#8 Reverse a vector (first element becomes last)\n",
    "# первый способ\n",
    "a = np.arange(10)\n",
    "a = a[::-1]\n",
    "#второй способ - с flip\n",
    "b = np.arange(10)\n",
    "print(a, np.flip(b))"
   ]
  },
  {
   "cell_type": "code",
   "execution_count": 14,
   "id": "99b23317",
   "metadata": {},
   "outputs": [
    {
     "name": "stdout",
     "output_type": "stream",
     "text": [
      "[[0 1 2]\n",
      " [3 4 5]\n",
      " [6 7 8]]\n"
     ]
    }
   ],
   "source": [
    "#9 Create a 3x3 matrix with values ranging from 0 to 8\n",
    "print(np.arange(9).reshape(3,3))"
   ]
  },
  {
   "cell_type": "code",
   "execution_count": 19,
   "id": "e98dc922",
   "metadata": {},
   "outputs": [
    {
     "name": "stdout",
     "output_type": "stream",
     "text": [
      "[0, 1, 4] (array([0, 1, 4], dtype=int64),)\n"
     ]
    }
   ],
   "source": [
    "#10. Find indices of non-zero elements from [1,2,0,0,4,0]\n",
    "a = [1,2,0,0,4,0]\n",
    "k = 0\n",
    "nozero =[]\n",
    "for i in a:\n",
    "    if i != 0:\n",
    "        nozero.append(k)\n",
    "    k += 1\n",
    "# либо сразу np.nonzero\n",
    "print(nozero, np.nonzero(a))"
   ]
  },
  {
   "cell_type": "code",
   "execution_count": 20,
   "id": "f203399b",
   "metadata": {},
   "outputs": [
    {
     "name": "stdout",
     "output_type": "stream",
     "text": [
      "[[1. 0. 0.]\n",
      " [0. 1. 0.]\n",
      " [0. 0. 1.]]\n"
     ]
    }
   ],
   "source": [
    "#11. Create a 3x3 identity matrix - единичная матрица 3х3\n",
    "print(np.eye(3))"
   ]
  },
  {
   "cell_type": "code",
   "execution_count": 23,
   "id": "5f89dc18",
   "metadata": {},
   "outputs": [
    {
     "name": "stdout",
     "output_type": "stream",
     "text": [
      "[[[0.70529312 0.13708225 0.20168712]\n",
      "  [0.3900066  0.64139626 0.53790767]\n",
      "  [0.24620153 0.2522316  0.73843631]]\n",
      "\n",
      " [[0.5167881  0.92028791 0.41949969]\n",
      "  [0.05355467 0.26215467 0.69798304]\n",
      "  [0.48734891 0.72364643 0.9237195 ]]\n",
      "\n",
      " [[0.50081703 0.74156374 0.81789415]\n",
      "  [0.58389558 0.78405964 0.46536295]\n",
      "  [0.79284372 0.09380273 0.57695623]]]\n"
     ]
    }
   ],
   "source": [
    "#12 Create a 3x3x3 array with random values\n",
    "print(np.random.random((3,3,3)))"
   ]
  },
  {
   "cell_type": "code",
   "execution_count": 27,
   "id": "abd37f66",
   "metadata": {},
   "outputs": [
    {
     "name": "stdout",
     "output_type": "stream",
     "text": [
      "0.0020987374710397244 0.9979852153190276\n"
     ]
    }
   ],
   "source": [
    "#13 Create a 10x10 array with random values and find the minimum and maximum values\n",
    "a = np.random.random((10,10))\n",
    "print(a.min(), a.max())"
   ]
  },
  {
   "cell_type": "code",
   "execution_count": 30,
   "id": "5047f3e0",
   "metadata": {},
   "outputs": [
    {
     "name": "stdout",
     "output_type": "stream",
     "text": [
      "0.527055432392459\n"
     ]
    }
   ],
   "source": [
    "#14. Create a random vector of size 30 and find the mean value\n",
    "a = np.random.random(30)\n",
    "print(a.mean())"
   ]
  },
  {
   "cell_type": "code",
   "execution_count": 38,
   "id": "7d48f1c9",
   "metadata": {},
   "outputs": [
    {
     "name": "stdout",
     "output_type": "stream",
     "text": [
      "[[1. 1. 1.]\n",
      " [1. 0. 1.]\n",
      " [1. 1. 1.]]\n",
      "\n",
      "[[1. 1. 1. 1.]\n",
      " [1. 0. 0. 1.]\n",
      " [1. 0. 0. 1.]\n",
      " [1. 1. 1. 1.]]\n"
     ]
    }
   ],
   "source": [
    "#15. Create a 2d array with 1 on the border and 0 inside\n",
    "a = np.ones((3,3))\n",
    "a[1][1] = 0\n",
    "b = np.ones((4,4))\n",
    "b[1:-1,1:-1] = 0        \n",
    "print(a, b, sep=2*'\\n')"
   ]
  },
  {
   "cell_type": "code",
   "execution_count": 40,
   "id": "24efd817",
   "metadata": {},
   "outputs": [
    {
     "name": "stdout",
     "output_type": "stream",
     "text": [
      "[[0. 0. 0. 0. 0. 0. 0.]\n",
      " [0. 1. 1. 1. 1. 1. 0.]\n",
      " [0. 1. 1. 1. 1. 1. 0.]\n",
      " [0. 1. 1. 1. 1. 1. 0.]\n",
      " [0. 1. 1. 1. 1. 1. 0.]\n",
      " [0. 1. 1. 1. 1. 1. 0.]\n",
      " [0. 0. 0. 0. 0. 0. 0.]]\n"
     ]
    }
   ],
   "source": [
    "#16. How to add a border (filled with 0's) around an existing array?\n",
    "a = np.ones((7,7))\n",
    "a[:, [0, -1]], a[[0, -1], :] = 0, 0\n",
    "print(a)"
   ]
  },
  {
   "cell_type": "code",
   "execution_count": 42,
   "id": "7d7bddcb",
   "metadata": {},
   "outputs": [
    {
     "data": {
      "text/plain": [
       "'(0 * np.nan) nan - недопустимое значение, inf - бесконечность, здесь результат = nan\\n(np.nan == np.nan) False\\n(np.inf > np.nan) False\\n(np.nan - np.nan) nan\\n(np.nan in set([np.nan])) True\\n(0.3 == 3 * 0.1) False  '"
      ]
     },
     "execution_count": 42,
     "metadata": {},
     "output_type": "execute_result"
    }
   ],
   "source": [
    "#17. What is the result of the following expression?\n",
    "\"\"\"(0 * np.nan) nan - недопустимое значение, inf - бесконечность, здесь результат = nan\n",
    "(np.nan == np.nan) False\n",
    "(np.inf > np.nan) False\n",
    "(np.nan - np.nan) nan\n",
    "(np.nan in set([np.nan])) True\n",
    "(0.3 == 3 * 0.1) False  \"\"\""
   ]
  },
  {
   "cell_type": "code",
   "execution_count": 44,
   "id": "f2e10eb8",
   "metadata": {},
   "outputs": [
    {
     "name": "stdout",
     "output_type": "stream",
     "text": [
      "[[0 0 0 0 0]\n",
      " [1 0 0 0 0]\n",
      " [0 2 0 0 0]\n",
      " [0 0 3 0 0]\n",
      " [0 0 0 4 0]]\n"
     ]
    }
   ],
   "source": [
    "#18. Create a 5x5 matrix with values 1,2,3,4 just below the diagonal\n",
    "a = np.diag(1 + np.arange(4), k=-1)\n",
    "print(a)"
   ]
  },
  {
   "cell_type": "code",
   "execution_count": 48,
   "id": "3c49ecba",
   "metadata": {},
   "outputs": [
    {
     "name": "stdout",
     "output_type": "stream",
     "text": [
      "[[0. 1. 0. 1. 0. 1. 0. 1.]\n",
      " [1. 0. 1. 0. 1. 0. 1. 0.]\n",
      " [0. 1. 0. 1. 0. 1. 0. 1.]\n",
      " [1. 0. 1. 0. 1. 0. 1. 0.]\n",
      " [0. 1. 0. 1. 0. 1. 0. 1.]\n",
      " [1. 0. 1. 0. 1. 0. 1. 0.]\n",
      " [0. 1. 0. 1. 0. 1. 0. 1.]\n",
      " [1. 0. 1. 0. 1. 0. 1. 0.]]\n"
     ]
    }
   ],
   "source": [
    "#19. Create a 8x8 matrix and fill it with a checkerboard pattern\n",
    "a = np.ones((8,8))\n",
    "for i in range(8):\n",
    "    for j in range(8):\n",
    "        if (i + j) % 2 == 0:\n",
    "            a[i][j] = '0'\n",
    "        else:\n",
    "            a[i][j] = '1'\n",
    "print(a)\n"
   ]
  },
  {
   "cell_type": "code",
   "execution_count": 51,
   "id": "26bce528",
   "metadata": {},
   "outputs": [
    {
     "name": "stdout",
     "output_type": "stream",
     "text": [
      "(1, 5, 3)\n",
      "1 5 3\n"
     ]
    }
   ],
   "source": [
    "#20. Consider a (6,7,8) shape array, what is the index (x,y,z) of the 100th element?\n",
    "print(np.unravel_index(99,(6,7,8))) #по сути требуется из плоского представления массива перевести в трехмерное - unravel это и делает,получая индекс 100-го элемента в трехмерии представлении\n",
    "a = np.arange(6 * 7 * 8)\n",
    "flag = 11312414 # проверим непосредственно через флаг, задав случайное число (которого точно нет среди чисел массива)\n",
    "a[99] = flag \n",
    "a = a.reshape(6,7,8)\n",
    "for i in range(6):\n",
    "    for j in range(7):\n",
    "        for k in range(8):\n",
    "            if a[i][j][k] == flag:\n",
    "                print(i, j, k)"
   ]
  },
  {
   "cell_type": "code",
   "execution_count": 52,
   "id": "ec6aac04",
   "metadata": {},
   "outputs": [
    {
     "name": "stdout",
     "output_type": "stream",
     "text": [
      "[[0 1 0 1 0 1 0 1]\n",
      " [1 0 1 0 1 0 1 0]\n",
      " [0 1 0 1 0 1 0 1]\n",
      " [1 0 1 0 1 0 1 0]\n",
      " [0 1 0 1 0 1 0 1]\n",
      " [1 0 1 0 1 0 1 0]\n",
      " [0 1 0 1 0 1 0 1]\n",
      " [1 0 1 0 1 0 1 0]]\n"
     ]
    }
   ],
   "source": [
    "#21. Create a checkerboard 8x8 matrix using the tile function\n",
    "print(np.tile( np.array([[0,1],[1,0]]), (4,4)))\n"
   ]
  },
  {
   "cell_type": "code",
   "execution_count": 53,
   "id": "acb27d42",
   "metadata": {},
   "outputs": [
    {
     "name": "stdout",
     "output_type": "stream",
     "text": [
      "[[ 1.09611213 -0.33909996  1.07950369 -1.62303055 -0.28969114]\n",
      " [-0.52433827  1.25237953  0.18917008  1.32170361  0.10649142]\n",
      " [-1.47966912  1.48748154  1.1553958  -0.19557155 -0.03727666]\n",
      " [ 1.09735979 -0.72132504 -1.57011096  1.00807567 -0.9838094 ]\n",
      " [-1.30406153  0.70000317  0.45940074 -0.81256652 -1.07252647]]\n"
     ]
    }
   ],
   "source": [
    "#22. Normalize a 5x5 random matrix\n",
    "# требуется от каждого элемента отнять среднее и поделить на среднеквадратичное отклонение\n",
    "a = np.random.random((5,5))\n",
    "a = (a - np.mean (a)) / (np.std (a))\n",
    "print(a)"
   ]
  },
  {
   "cell_type": "code",
   "execution_count": 55,
   "id": "fbb29572",
   "metadata": {},
   "outputs": [
    {
     "name": "stdout",
     "output_type": "stream",
     "text": [
      "[('r', 'u1'), ('g', 'u1'), ('b', 'u1'), ('a', 'u1')]\n"
     ]
    },
    {
     "name": "stderr",
     "output_type": "stream",
     "text": [
      "C:\\Users\\dpego\\AppData\\Local\\Temp\\ipykernel_10136\\3997703392.py:2: FutureWarning: Passing (type, 1) or '1type' as a synonym of type is deprecated; in a future version of numpy, it will be understood as (type, (1,)) / '(1,)type'.\n",
      "  color = np.dtype([(\"r\", np.ubyte, 1), (\"g\", np.ubyte, 1), (\"b\", np.ubyte, 1), (\"a\", np.ubyte, 1)])\n"
     ]
    }
   ],
   "source": [
    "#23. Create a custom dtype that describes a color as four unsigned bytes (RGBA)\n",
    "a = np.dtype([(\"r\", np.ubyte, 1), (\"g\", np.ubyte, 1), (\"b\", np.ubyte, 1), (\"a\", np.ubyte, 1)])\n",
    "print(a)"
   ]
  },
  {
   "cell_type": "code",
   "execution_count": 56,
   "id": "2c0175c5",
   "metadata": {},
   "outputs": [
    {
     "name": "stdout",
     "output_type": "stream",
     "text": [
      "[[0.06746915 0.13947083 0.96357899]\n",
      " [0.81610207 0.86490824 0.43614195]\n",
      " [0.08999808 0.03225229 0.41477926]\n",
      " [0.90652117 0.07315001 0.2728351 ]\n",
      " [0.86519048 0.09773281 0.5578647 ]]\n",
      "\n",
      "[[0.75858725 0.7187709 ]\n",
      " [0.35174882 0.73250539]\n",
      " [0.83826875 0.71930583]]\n",
      "\n",
      "Результат перемножения матриц:\n",
      "[[0.90797809 0.84376598]\n",
      " [1.28891924 1.53385981]\n",
      " [0.42731259 0.38666612]\n",
      " [0.94211497 0.90141569]\n",
      " [1.15834042 1.09473888]]\n"
     ]
    }
   ],
   "source": [
    "#24. Multiply a 5x3 matrix by a 3x2 matrix (real matrix product)\n",
    "a = np.random.rand(5,3)\n",
    "b = np.random.rand(3,2)\n",
    "print(\"{}\\n\".format(a))\n",
    "print(\"{}\\n\".format(b))\n",
    "print(\"Результат перемножения матриц:\")\n",
    "print(np.dot(a, b))\n"
   ]
  },
  {
   "cell_type": "code",
   "execution_count": 65,
   "id": "4a1548ee",
   "metadata": {
    "scrolled": true
   },
   "outputs": [
    {
     "name": "stdout",
     "output_type": "stream",
     "text": [
      "[ 0  1  2  3 -4 -5 -6 -7  8  9 10]\n"
     ]
    }
   ],
   "source": [
    "#25. Given a 1D array, negate all elements which are between 3 and 8, in place.\n",
    "a = np.arange(11)\n",
    "for i in range(len(a)):\n",
    "    if 3 < a[i] < 8:\n",
    "        a[i] = -a[i]\n",
    "print(a)\n"
   ]
  },
  {
   "cell_type": "code",
   "execution_count": 66,
   "id": "ced24de0",
   "metadata": {},
   "outputs": [
    {
     "name": "stdout",
     "output_type": "stream",
     "text": [
      "9\n",
      "10\n"
     ]
    }
   ],
   "source": [
    "#26 What is the output of the following script?\n",
    "print(sum(range(5),-1)) # 9\n",
    "from numpy import *\n",
    "print(sum(range(5),-1)) # 10"
   ]
  },
  {
   "cell_type": "code",
   "execution_count": 67,
   "id": "b5b67f40",
   "metadata": {},
   "outputs": [
    {
     "data": {
      "text/plain": [
       "'\\nZ = 5\\nZ**Z  3125\\n2 << Z >> 2  16\\nZ <- Z  False\\n1j*Z  5j\\nZ/1/1  5.0\\nZ<Z>Z False\\nВроде как возможно использовать все\\n'"
      ]
     },
     "execution_count": 67,
     "metadata": {},
     "output_type": "execute_result"
    }
   ],
   "source": [
    "#27. Consider an integer vector Z, which of these expressions are legal? (★☆☆)\n",
    "'''\n",
    "Z = 5\n",
    "Z**Z  3125\n",
    "2 << Z >> 2  16\n",
    "Z <- Z  False\n",
    "1j*Z  5j\n",
    "Z/1/1  5.0\n",
    "Z<Z>Z False\n",
    "Вроде как возможно использовать все\n",
    "'''"
   ]
  },
  {
   "cell_type": "code",
   "execution_count": 70,
   "id": "bc5116b9",
   "metadata": {},
   "outputs": [
    {
     "name": "stderr",
     "output_type": "stream",
     "text": [
      "C:\\Users\\dpego\\AppData\\Local\\Temp\\ipykernel_10136\\422508113.py:2: RuntimeWarning: invalid value encountered in true_divide\n",
      "  np.array(0) / np.array(0) # nan\n",
      "C:\\Users\\dpego\\AppData\\Local\\Temp\\ipykernel_10136\\422508113.py:3: RuntimeWarning: divide by zero encountered in floor_divide\n",
      "  np.array(0) // np.array(0) # 0\n"
     ]
    },
    {
     "data": {
      "text/plain": [
       "array([-2.14748365e+09])"
      ]
     },
     "execution_count": 70,
     "metadata": {},
     "output_type": "execute_result"
    }
   ],
   "source": [
    "#28. # What is the result of the following expression?\n",
    "np.array(0) / np.array(0) # nan \n",
    "np.array(0) // np.array(0) # 0 \n",
    "np.array([np.nan]).astype(int).astype(float) # array([-2.14748365e+09])\n"
   ]
  },
  {
   "cell_type": "code",
   "execution_count": 80,
   "id": "d92bf366",
   "metadata": {},
   "outputs": [
    {
     "name": "stdout",
     "output_type": "stream",
     "text": [
      "[-7.4046413  -8.57127368 -0.6024412   5.6138739  -5.52313109  9.00544671\n",
      "  2.88621606 -5.54055647  0.37869305  9.16507411]\n",
      "[-7. -9. -1.  6. -6.  9.  3. -6.  0.  9.]\n"
     ]
    }
   ],
   "source": [
    "#29. How to round away from zero a float array ? \n",
    "a = np.random.uniform(-10,+10,10)\n",
    "b = np.trunc(a + np.copysign(0.5,a))\n",
    "print(a)\n",
    "print(b)"
   ]
  },
  {
   "cell_type": "code",
   "execution_count": 82,
   "id": "529b4f41",
   "metadata": {},
   "outputs": [
    {
     "name": "stdout",
     "output_type": "stream",
     "text": [
      "[ 4  0 -1 -2 -5  1 -2  1 -1  4]\n",
      "[-4 -2 -4  2 -1 -1  0  4  1 -2]\n",
      "[-2 -1  0  1  4]\n"
     ]
    }
   ],
   "source": [
    "#30. How to find common values between two arrays?\n",
    "a = np.random.randint(-5, 5, 10)\n",
    "b = np.random.randint(-5, 5, 10)\n",
    "c = np.intersect1d(a, b) # пересечение множеств элементов массивов\n",
    "print(a)\n",
    "print(b)\n",
    "print(c)"
   ]
  },
  {
   "cell_type": "code",
   "execution_count": null,
   "id": "8e3f7ff4",
   "metadata": {},
   "outputs": [],
   "source": [
    "#31. How to ignore all numpy warnings (not recommended)?\n",
    "#np.seterr(all=\"ignore\")"
   ]
  },
  {
   "cell_type": "code",
   "execution_count": null,
   "id": "2aaec1f8",
   "metadata": {},
   "outputs": [],
   "source": [
    "#32. Is the following expressions true? (★☆☆)\n",
    "np.sqrt(-1) == np.emath.sqrt(-1) # False"
   ]
  },
  {
   "cell_type": "code",
   "execution_count": 83,
   "id": "d02b9b97",
   "metadata": {},
   "outputs": [
    {
     "name": "stdout",
     "output_type": "stream",
     "text": [
      "Today: 2022-12-19\n",
      "Yesterday: 2022-12-18\n",
      "Tomorrow: 2022-12-20\n"
     ]
    }
   ],
   "source": [
    "#33. How to get the dates of yesterday, today and tomorrow?\n",
    "today = np.datetime64(\"today\")\n",
    "yesterday = today - np.timedelta64(1)\n",
    "tomorrow = today + np.timedelta64(1)\n",
    "print(\"Today: {}\".format(today))\n",
    "print(\"Yesterday: {}\".format(yesterday))\n",
    "print(\"Tomorrow: {}\".format(tomorrow))"
   ]
  },
  {
   "cell_type": "code",
   "execution_count": 84,
   "id": "52b51e62",
   "metadata": {},
   "outputs": [
    {
     "data": {
      "text/plain": [
       "array(['2016-07-01', '2016-07-02', '2016-07-03', '2016-07-04',\n",
       "       '2016-07-05', '2016-07-06', '2016-07-07', '2016-07-08',\n",
       "       '2016-07-09', '2016-07-10', '2016-07-11', '2016-07-12',\n",
       "       '2016-07-13', '2016-07-14', '2016-07-15', '2016-07-16',\n",
       "       '2016-07-17', '2016-07-18', '2016-07-19', '2016-07-20',\n",
       "       '2016-07-21', '2016-07-22', '2016-07-23', '2016-07-24',\n",
       "       '2016-07-25', '2016-07-26', '2016-07-27', '2016-07-28',\n",
       "       '2016-07-29', '2016-07-30', '2016-07-31'], dtype='datetime64[D]')"
      ]
     },
     "execution_count": 84,
     "metadata": {},
     "output_type": "execute_result"
    }
   ],
   "source": [
    "#34. How to get all the dates corresponding to the month of July 2016?\n",
    "np.arange(\"2016-07\", \"2016-08\", dtype=\"datetime64[D]\")"
   ]
  },
  {
   "cell_type": "code",
   "execution_count": 85,
   "id": "7c3491c1",
   "metadata": {},
   "outputs": [
    {
     "name": "stdout",
     "output_type": "stream",
     "text": [
      "[ 0.90481857 -4.37724296 -0.47559362 -4.41455414  0.8311368 ]\n",
      "[-3.75892773 -3.35215599 -4.97148942 -2.37997629 -4.35321344]\n",
      "[  1.29122549 -16.91672857  -1.29529896 -14.99741122   1.46366375]\n"
     ]
    }
   ],
   "source": [
    "#35. How to compute ((A+B)*(-A/2)) in place (without copy)?\n",
    "A = np.random.uniform(-5, 5, 5)\n",
    "B = np.random.uniform(-5, 5, 5)\n",
    "print(A)\n",
    "print(B)\n",
    "np.add(A, B, out=B)\n",
    "np.negative(A, out=A)\n",
    "np.multiply(A, 0.5, out=A)\n",
    "np.multiply(A, B, out=A)\n",
    "print(A)"
   ]
  },
  {
   "cell_type": "code",
   "execution_count": 86,
   "id": "e3165589",
   "metadata": {},
   "outputs": [
    {
     "name": "stdout",
     "output_type": "stream",
     "text": [
      "[ -4.48490825  -4.93130917  -3.43340176   5.56880257  -8.91670722\n",
      "  -4.22402714  -3.93966007   8.35710065 -14.6558092   -9.13011109]\n",
      "[ -5.  -5.  -4.   5.  -9.  -5.  -4.   8. -15. -10.]\n",
      "[ -5.  -5.  -4.   5.  -9.  -5.  -4.   8. -15. -10.]\n",
      "[ -5.  -5.  -4.   5.  -9.  -5.  -4.   8. -15. -10.]\n",
      "[ -4.  -4.  -3.   5.  -8.  -4.  -3.   8. -14.  -9.]\n",
      "[ -4.  -4.  -3.   5.  -8.  -4.  -3.   8. -14.  -9.]\n"
     ]
    }
   ],
   "source": [
    "#36. Extract the integer part of a random array of positive numbers using 4 different methods\n",
    "a = np.random.uniform(-15, 15, 10)\n",
    "print(a)\n",
    "print(a - a % 1) # только для положительных\n",
    "print(np.floor(a))\n",
    "print(np.ceil(a) - 1)\n",
    "print(a.astype(int).astype(float)) \n",
    "print(np.trunc(a))"
   ]
  },
  {
   "cell_type": "code",
   "execution_count": 87,
   "id": "d4c5b73e",
   "metadata": {},
   "outputs": [
    {
     "name": "stdout",
     "output_type": "stream",
     "text": [
      "[[0. 1. 2. 3. 4.]\n",
      " [0. 1. 2. 3. 4.]\n",
      " [0. 1. 2. 3. 4.]\n",
      " [0. 1. 2. 3. 4.]\n",
      " [0. 1. 2. 3. 4.]]\n"
     ]
    }
   ],
   "source": [
    "#37. Create a 5x5 matrix with row values ranging from 0 to 4\n",
    "a = np.zeros((5,5))\n",
    "a += np.arange(5)\n",
    "print(a)"
   ]
  },
  {
   "cell_type": "code",
   "execution_count": 88,
   "id": "517ab66b",
   "metadata": {},
   "outputs": [
    {
     "data": {
      "text/plain": [
       "array([5.43767328, 1.18906571, 1.02922344, 5.38313389, 4.27046452,\n",
       "       4.96078548, 1.95578932, 6.88550891, 4.06217235, 6.78279801])"
      ]
     },
     "execution_count": 88,
     "metadata": {},
     "output_type": "execute_result"
    }
   ],
   "source": [
    "#38. Consider a generator function that generates 10 integers and use it to build an array\n",
    "n = 10\n",
    "a = (n * np.random.rand() for x in range(n))\n",
    "np.fromiter(a, float)"
   ]
  },
  {
   "cell_type": "code",
   "execution_count": 90,
   "id": "23f63331",
   "metadata": {},
   "outputs": [
    {
     "name": "stdout",
     "output_type": "stream",
     "text": [
      "[0.09090909 0.18181818 0.27272727 0.36363636 0.45454545 0.54545455\n",
      " 0.63636364 0.72727273 0.81818182 0.90909091]\n"
     ]
    }
   ],
   "source": [
    "#39. Create a vector of size 10 with values ranging from 0 to 1, both excluded\n",
    "a = np.random.uniform(0, 1, 10) \n",
    "a = np.linspace(0, 1, 11, endpoint=False)[1:]\n",
    "print(a)"
   ]
  },
  {
   "cell_type": "code",
   "execution_count": 91,
   "id": "e3eaf50a",
   "metadata": {},
   "outputs": [
    {
     "data": {
      "text/plain": [
       "array([-15, -12, -10,  -9,  -9,  -4,   8,  11,  12,  12])"
      ]
     },
     "execution_count": 91,
     "metadata": {},
     "output_type": "execute_result"
    }
   ],
   "source": [
    "#40. Create a random vector of size 10 and sort it\n",
    "a = np.random.randint(-15, 15, 10)\n",
    "np.sort(a)"
   ]
  },
  {
   "cell_type": "code",
   "execution_count": 97,
   "id": "08657f66",
   "metadata": {},
   "outputs": [
    {
     "name": "stdout",
     "output_type": "stream",
     "text": [
      "[ 2  9  5 -1  1]\n",
      "16\n"
     ]
    }
   ],
   "source": [
    "#41. How to sum a small array faster than np.sum?\n",
    "#???\n",
    "#решено\n",
    "a = np.random.randint(-10, 10, 5)\n",
    "a_sum = np.add.reduce(a)\n",
    "print(a)\n",
    "print(a_sum)"
   ]
  },
  {
   "cell_type": "code",
   "execution_count": 96,
   "id": "4a7fce9c",
   "metadata": {},
   "outputs": [
    {
     "name": "stdout",
     "output_type": "stream",
     "text": [
      "[0 0 0 1]\n",
      "[1 0 1 1]\n",
      "False\n",
      "False\n"
     ]
    }
   ],
   "source": [
    "#42. Consider two random array A and B, check if they are equal\n",
    "a = np.random.randint(0, 2, 4)\n",
    "b = np.random.randint(0, 2, 4)\n",
    "res1 = np.allclose(A, B) #считаем, что размерность массивов одинакова\n",
    "res2 = np.array_equal(A, B) # а тут и размерность проверяем тоже\n",
    "print(a)\n",
    "print(b)\n",
    "print(res1)\n",
    "print(res2)"
   ]
  },
  {
   "cell_type": "code",
   "execution_count": 94,
   "id": "26a4b2ca",
   "metadata": {},
   "outputs": [
    {
     "name": "stdout",
     "output_type": "stream",
     "text": [
      "[-3  3 -5  0 -3  4 -1 -4 -2  3]\n"
     ]
    },
    {
     "ename": "ValueError",
     "evalue": "assignment destination is read-only",
     "output_type": "error",
     "traceback": [
      "\u001b[1;31m---------------------------------------------------------------------------\u001b[0m",
      "\u001b[1;31mValueError\u001b[0m                                Traceback (most recent call last)",
      "Input \u001b[1;32mIn [94]\u001b[0m, in \u001b[0;36m<cell line: 6>\u001b[1;34m()\u001b[0m\n\u001b[0;32m      4\u001b[0m \u001b[38;5;28mprint\u001b[39m(a)\n\u001b[0;32m      5\u001b[0m \u001b[38;5;66;03m# попытки поменять что-то в массиве вызовут ValueError\u001b[39;00m\n\u001b[1;32m----> 6\u001b[0m a[\u001b[38;5;241m0\u001b[39m] \u001b[38;5;241m=\u001b[39m \u001b[38;5;241m1\u001b[39m\n\u001b[0;32m      7\u001b[0m \u001b[38;5;28mprint\u001b[39m(a)\n",
      "\u001b[1;31mValueError\u001b[0m: assignment destination is read-only"
     ]
    }
   ],
   "source": [
    "#43. Make an array immutable (read-only)\n",
    "a = np.random.randint(-5, 5, 10)\n",
    "a.flags.writeable = False\n",
    "print(a)\n",
    "# попытки поменять что-то в массиве вызовут ValueError\n",
    "a[0] = 1\n",
    "print(a)"
   ]
  },
  {
   "cell_type": "code",
   "execution_count": null,
   "id": "59277378",
   "metadata": {},
   "outputs": [],
   "source": [
    "#44. Consider a random 10x2 matrix representing cartesian coordinates, convert them to polar coordinates\n",
    "#код из домашки:\n",
    "def cartesian_to_polar(c):\n",
    "    \"\"\"Переводит массив, состоящий из 10 пар координат xy \n",
    "    в массив координат r phi.\n",
    "    \n",
    "    Parameters\n",
    "    ----------\n",
    "    c: Array of int.\n",
    "    Массив размерами 10х2, каждая строка -- декартовы координаты точки. \n",
    "    \n",
    "    Returns\n",
    "    -------\n",
    "    p: Array of int. \n",
    "    Аналогичный массив из пар полярных координат. В первом столбике r.\n",
    "    \"\"\"\n",
    "    p = np.zeros(20).reshape(10,2)\n",
    "    for i in range(10):\n",
    "        p[i][0], p[i][1] = np.sqrt(c[i][0]**2 + c[i][1]**2), np.arctan2(c[i][1], c[i][0])\n",
    "    return p"
   ]
  },
  {
   "cell_type": "code",
   "execution_count": 100,
   "id": "f14012d7",
   "metadata": {},
   "outputs": [
    {
     "name": "stdout",
     "output_type": "stream",
     "text": [
      "[ 8.02408471 -1.32740498  7.24239106 -9.60324798 -2.8249786   3.84054878\n",
      " -4.70817693 -5.56855907  1.78292979  6.9094486 ]\n",
      "Максимум: 8.024084707665281 с индексом 0\n",
      "[ 0.         -1.32740498  7.24239106 -9.60324798 -2.8249786   3.84054878\n",
      " -4.70817693 -5.56855907  1.78292979  6.9094486 ]\n"
     ]
    }
   ],
   "source": [
    "#45 Create random vector of size 10 and replace the maximum value by 0\n",
    "a = np.random.uniform(-10, 10, 10)\n",
    "print(a)\n",
    "print(\"Максимум: {} с индексом {}\".format(max(a), np.argmax(a)))\n",
    "a[np.argmax(a)] = 0\n",
    "print(a)"
   ]
  },
  {
   "cell_type": "code",
   "execution_count": 101,
   "id": "513984fc",
   "metadata": {},
   "outputs": [
    {
     "name": "stdout",
     "output_type": "stream",
     "text": [
      "[[(0.  , 0.  ) (0.25, 0.  ) (0.5 , 0.  ) (0.75, 0.  ) (1.  , 0.  )]\n",
      " [(0.  , 0.25) (0.25, 0.25) (0.5 , 0.25) (0.75, 0.25) (1.  , 0.25)]\n",
      " [(0.  , 0.5 ) (0.25, 0.5 ) (0.5 , 0.5 ) (0.75, 0.5 ) (1.  , 0.5 )]\n",
      " [(0.  , 0.75) (0.25, 0.75) (0.5 , 0.75) (0.75, 0.75) (1.  , 0.75)]\n",
      " [(0.  , 1.  ) (0.25, 1.  ) (0.5 , 1.  ) (0.75, 1.  ) (1.  , 1.  )]]\n"
     ]
    }
   ],
   "source": [
    "#46. Create a structured array with `x` and `y` coordinates covering the [0,1]x[0,1]\n",
    "a = np.zeros((5,5), [(\"x\", float), (\"y\", float)])\n",
    "a[\"x\"], a[\"y\"] = np.meshgrid(np.linspace(0, 1, 5), np.linspace(0, 1, 5))\n",
    "print(a)"
   ]
  },
  {
   "cell_type": "code",
   "execution_count": 102,
   "id": "cf731134",
   "metadata": {},
   "outputs": [
    {
     "name": "stdout",
     "output_type": "stream",
     "text": [
      "[[-0.29087986 -0.22533232 -1.46463297 -0.53640957 -0.20847826]\n",
      " [-0.57151669 -0.36366618  0.99467808 -5.6775662  -0.3216936 ]\n",
      " [ 0.87683355  7.12134425  0.2567033   0.36845092 -4.57979285]\n",
      " [-0.32701555 -0.24642663 -3.30165935 -0.67369092 -0.22640947]\n",
      " [ 0.17847036  0.21724363  0.11964224  0.13933846  0.23560714]]\n"
     ]
    }
   ],
   "source": [
    "#47. Given two arrays, X and Y, construct the Cauchy matrix C (Cij =1/(xi - yj))\n",
    "a = np.random.uniform(-5, 5, 5)\n",
    "b = np.random.uniform(-5, 5, 5)\n",
    "c = 1.0 / np.subtract.outer(a, b)\n",
    "print(c)"
   ]
  },
  {
   "cell_type": "code",
   "execution_count": 104,
   "id": "ca0d46ff",
   "metadata": {},
   "outputs": [
    {
     "name": "stdout",
     "output_type": "stream",
     "text": [
      "<class 'numpy.uint8'>\n",
      "Min: 0\n",
      "Max: 255\n",
      "\n",
      "<class 'numpy.int8'>\n",
      "Min: -128\n",
      "Max: 127\n",
      "\n",
      "<class 'numpy.uint16'>\n",
      "Min: 0\n",
      "Max: 65535\n",
      "\n",
      "<class 'numpy.int16'>\n",
      "Min: -32768\n",
      "Max: 32767\n",
      "\n",
      "<class 'numpy.uint32'>\n",
      "Min: 0\n",
      "Max: 4294967295\n",
      "\n",
      "<class 'numpy.int32'>\n",
      "Min: -2147483648\n",
      "Max: 2147483647\n",
      "\n",
      "<class 'numpy.uint64'>\n",
      "Min: 0\n",
      "Max: 18446744073709551615\n",
      "\n",
      "<class 'numpy.int64'>\n",
      "Min: -9223372036854775808\n",
      "Max: 9223372036854775807\n",
      "\n",
      "<class 'numpy.float16'>\n",
      "Min: -65504.0\n",
      "Max: 65504.0\n",
      "Eps: 0.0009765625\n",
      "\n",
      "<class 'numpy.float32'>\n",
      "Min: -3.4028234663852886e+38\n",
      "Max: 3.4028234663852886e+38\n",
      "Eps: 1.1920928955078125e-07\n",
      "\n",
      "<class 'numpy.float64'>\n",
      "Min: -1.7976931348623157e+308\n",
      "Max: 1.7976931348623157e+308\n",
      "Eps: 2.220446049250313e-16\n",
      "\n"
     ]
    }
   ],
   "source": [
    "#48. Print the minimum and maximum representable value for each numpy scalar type\n",
    "for dtype in [np.uint8, np.int8, np.uint16, np.int16, np.uint32, np.int32, np.uint64, np.int64]:\n",
    "    print(dtype)\n",
    "    print(\"Min: {}\".format(np.iinfo(dtype).min))\n",
    "    print(\"Max: {}\".format(np.iinfo(dtype).max))\n",
    "    print()\n",
    "for dtype in [np.float16, np.float32, np.float64]:\n",
    "    print(dtype)\n",
    "    print(\"Min: {}\".format(np.finfo(dtype).min))\n",
    "    print(\"Max: {}\".format(np.finfo(dtype).max))\n",
    "    print(\"Eps: {}\".format(np.finfo(dtype).eps))\n",
    "    print()"
   ]
  },
  {
   "cell_type": "code",
   "execution_count": 110,
   "id": "b4578e4a",
   "metadata": {},
   "outputs": [
    {
     "name": "stdout",
     "output_type": "stream",
     "text": [
      "[ 0  1  2  3  4  5  6  7  8  9 10 11 12 13 14 15 16 17 18 19 20 21 22 23\n",
      " 24 25 26 27 28 29 30 31 32 33 34 35 36 37 38 39 40 41 42 43 44 45 46 47\n",
      " 48 49]\n"
     ]
    }
   ],
   "source": [
    "#49. How to print all the values of an array?\n",
    "'''np.set_printoptions(threshold=np.nan)\n",
    "a = np.arange(50)\n",
    "print(a) '''\n",
    "#тут беда\n",
    "np.set_printoptions(threshold=float(\"inf\"))\n",
    "a = np.arange(50)\n",
    "print(a)"
   ]
  },
  {
   "cell_type": "code",
   "execution_count": 111,
   "id": "92c86067",
   "metadata": {},
   "outputs": [
    {
     "name": "stdout",
     "output_type": "stream",
     "text": [
      "[ 0  1  2  3  4  5  6  7  8  9 10 11 12 13 14 15 16 17 18 19 20 21 22 23\n",
      " 24 25 26 27 28 29 30 31 32 33 34 35 36 37 38 39 40 41 42 43 44 45 46 47\n",
      " 48 49 50 51 52 53 54 55 56 57 58 59 60 61 62 63 64 65 66 67 68 69 70 71\n",
      " 72 73 74 75 76 77 78 79 80 81 82 83 84 85 86 87 88 89 90 91 92 93 94 95\n",
      " 96 97 98 99]\n",
      "33.87944123574292\n",
      "34\n"
     ]
    }
   ],
   "source": [
    "#50. How to find the closest value (to a given scalar) in a vector?\n",
    "a = np.arange(100)\n",
    "scalar = np.random.uniform(0, 100)\n",
    "print(a)\n",
    "print(scalar)\n",
    "print(a[(np.abs(a - scalar)).argmin()])"
   ]
  },
  {
   "cell_type": "code",
   "execution_count": 115,
   "id": "44c2c656",
   "metadata": {},
   "outputs": [
    {
     "name": "stdout",
     "output_type": "stream",
     "text": [
      "[((0., 0.), (0., 0., 0.))]\n"
     ]
    },
    {
     "name": "stderr",
     "output_type": "stream",
     "text": [
      "C:\\Users\\dpego\\AppData\\Local\\Temp\\ipykernel_10136\\1589470848.py:5: FutureWarning: Passing (type, 1) or '1type' as a synonym of type is deprecated; in a future version of numpy, it will be understood as (type, (1,)) / '(1,)type'.\n",
      "  print(np.zeros(1, dtype))\n"
     ]
    }
   ],
   "source": [
    "#51. Create a structured array representing a position (x,y) and a color (r,g,b)\n",
    "dtype = [ (\"позиция\", [(\"x\", float, 1), (\"y\", float, 1)]),\n",
    "            (\"цвет\", [(\"r\", float, 1), (\"g\", float, 1),(\"b\", float, 1)])\n",
    "        ]\n",
    "print(np.zeros(1, dtype))\n"
   ]
  },
  {
   "cell_type": "code",
   "execution_count": 118,
   "id": "083fcbdc",
   "metadata": {},
   "outputs": [],
   "source": [
    "#52. Consider a random vector with shape (100,2) representing coordinates, find point by point distances\n",
    "a = np.random.randint(-5, 5, (100,2))\n",
    "x,y = np.atleast_2d(a[:,0], a[:,1])\n",
    "distance = np.sqrt((x - x.T) ** 2 + (y - y.T) ** 2) # T - транспонирование\n"
   ]
  },
  {
   "cell_type": "code",
   "execution_count": 119,
   "id": "f215bfad",
   "metadata": {},
   "outputs": [
    {
     "name": "stdout",
     "output_type": "stream",
     "text": [
      "[ 5.07078692 -5.87670675 -7.71470786  2.17697685  0.2501549   3.21132647\n",
      " -7.9183108  -9.54258868 -9.81924026 -2.06782895]\n",
      "[ 5 -5 -7  2  0  3 -7 -9 -9 -2]\n"
     ]
    }
   ],
   "source": [
    "#53. How to convert a float (32 bits) array into an integer (32 bits) in place?\n",
    "a = np.random.uniform(-10, 10, 10)\n",
    "print(a)\n",
    "print(a.astype(int, copy=False))"
   ]
  },
  {
   "cell_type": "code",
   "execution_count": null,
   "id": "8411daee",
   "metadata": {},
   "outputs": [],
   "source": [
    "#54. How to read the following file?\n",
    "```\n",
    "1, 2, 3, 4, 5\n",
    "6,  ,  , 7, 8\n",
    " ,  , 9,10,11\n",
    "```\n",
    "#что надо сделать??"
   ]
  },
  {
   "cell_type": "code",
   "execution_count": 120,
   "id": "0d60ce41",
   "metadata": {},
   "outputs": [
    {
     "name": "stdout",
     "output_type": "stream",
     "text": [
      "[[ -3 -10  -8]\n",
      " [  7  -1  -6]\n",
      " [  9  -6   0]]\n",
      "\\используем np.ndenumerate:\n",
      "(0, 0) -3\n",
      "(0, 1) -10\n",
      "(0, 2) -8\n",
      "(1, 0) 7\n",
      "(1, 1) -1\n",
      "(1, 2) -6\n",
      "(2, 0) 9\n",
      "(2, 1) -6\n",
      "(2, 2) 0\n",
      "\\используем np.ndindex:\n",
      "(0, 0) -3\n",
      "(0, 1) -10\n",
      "(0, 2) -8\n",
      "(1, 0) 7\n",
      "(1, 1) -1\n",
      "(1, 2) -6\n",
      "(2, 0) 9\n",
      "(2, 1) -6\n",
      "(2, 2) 0\n"
     ]
    }
   ],
   "source": [
    "#55. What is the equivalent of enumerate for numpy arrays?\n",
    "a = np.random.randint(-10, 10, 9).reshape(3,3)\n",
    "print(a)\n",
    "print(\"\\используем np.ndenumerate:\")\n",
    "for i,v in np.ndenumerate(a):\n",
    "    print(i, v)\n",
    "print(\"\\используем np.ndindex:\")\n",
    "for i in np.ndindex(a.shape):\n",
    "    print(i, a[i])"
   ]
  },
  {
   "cell_type": "code",
   "execution_count": 121,
   "id": "23ec2ab8",
   "metadata": {},
   "outputs": [
    {
     "name": "stdout",
     "output_type": "stream",
     "text": [
      "[[0.36787944 0.44822088 0.51979489 0.57375342 0.60279818 0.60279818\n",
      "  0.57375342 0.51979489 0.44822088 0.36787944]\n",
      " [0.44822088 0.54610814 0.63331324 0.69905581 0.73444367 0.73444367\n",
      "  0.69905581 0.63331324 0.54610814 0.44822088]\n",
      " [0.51979489 0.63331324 0.73444367 0.81068432 0.85172308 0.85172308\n",
      "  0.81068432 0.73444367 0.63331324 0.51979489]\n",
      " [0.57375342 0.69905581 0.81068432 0.89483932 0.9401382  0.9401382\n",
      "  0.89483932 0.81068432 0.69905581 0.57375342]\n",
      " [0.60279818 0.73444367 0.85172308 0.9401382  0.98773022 0.98773022\n",
      "  0.9401382  0.85172308 0.73444367 0.60279818]\n",
      " [0.60279818 0.73444367 0.85172308 0.9401382  0.98773022 0.98773022\n",
      "  0.9401382  0.85172308 0.73444367 0.60279818]\n",
      " [0.57375342 0.69905581 0.81068432 0.89483932 0.9401382  0.9401382\n",
      "  0.89483932 0.81068432 0.69905581 0.57375342]\n",
      " [0.51979489 0.63331324 0.73444367 0.81068432 0.85172308 0.85172308\n",
      "  0.81068432 0.73444367 0.63331324 0.51979489]\n",
      " [0.44822088 0.54610814 0.63331324 0.69905581 0.73444367 0.73444367\n",
      "  0.69905581 0.63331324 0.54610814 0.44822088]\n",
      " [0.36787944 0.44822088 0.51979489 0.57375342 0.60279818 0.60279818\n",
      "  0.57375342 0.51979489 0.44822088 0.36787944]]\n"
     ]
    }
   ],
   "source": [
    "#56. Generate a generic 2D Gaussian-like array\n",
    "x,y = np.meshgrid(np.linspace(-1, 1, 10), np.linspace(-1, 1, 10))\n",
    "R = np.sqrt(x ** 2 + y ** 2)\n",
    "sigma = 1.0\n",
    "mu = 0.0\n",
    "gauss = np.exp(-((R - mu) ** 2 / (2.0 * sigma ** 2)))\n",
    "print(gauss)"
   ]
  },
  {
   "cell_type": "code",
   "execution_count": 123,
   "id": "f26809e6",
   "metadata": {},
   "outputs": [
    {
     "name": "stdout",
     "output_type": "stream",
     "text": [
      "[[0. 0. 0. 1. 0. 0. 0. 0. 0. 0.]\n",
      " [0. 0. 0. 0. 0. 0. 0. 0. 0. 0.]\n",
      " [0. 0. 0. 0. 0. 0. 0. 0. 0. 0.]\n",
      " [0. 0. 0. 0. 0. 0. 0. 0. 0. 1.]\n",
      " [0. 0. 0. 0. 0. 0. 0. 0. 0. 0.]\n",
      " [0. 0. 0. 0. 0. 0. 0. 0. 1. 0.]\n",
      " [0. 0. 0. 0. 0. 0. 0. 0. 0. 0.]\n",
      " [0. 0. 0. 0. 0. 0. 0. 0. 0. 0.]\n",
      " [0. 0. 0. 0. 0. 0. 0. 0. 0. 0.]\n",
      " [0. 0. 0. 0. 0. 0. 0. 0. 0. 0.]]\n"
     ]
    }
   ],
   "source": [
    "#57. How to randomly place p elements in a 2D array?\n",
    "b, c = 10, 3\n",
    "a = np.zeros((b,b))\n",
    "np.put(a, np.random.choice(range(b ** 2), c, replace=False), 1)\n",
    "print(a)"
   ]
  },
  {
   "cell_type": "code",
   "execution_count": 126,
   "id": "808aa56f",
   "metadata": {},
   "outputs": [
    {
     "name": "stdout",
     "output_type": "stream",
     "text": [
      "Создаем случайный массив: \n",
      "[[ -4  -3  -2  -1  -6   2   8  -5  -6  -2]\n",
      " [ -5   2  -8  -1  -8   0  -4  -9  -4   2]\n",
      " [  6  -3   0  -8 -10   0   5   5  -5  -9]\n",
      " [ -1  -9   7   6   2  -2  -7   1  -3 -10]\n",
      " [ -9   3  -6  -7   9   4   0  -1 -10   1]]\n",
      "\n",
      "Среднее каждой строки массива:\n",
      "-1.9\n",
      "-3.5\n",
      "-1.9\n",
      "-1.6\n",
      "-1.6\n",
      "\n",
      "Новый массив со средним значением каждой строки, вычтенным из каждого элемента: \n",
      "[[-2.1 -1.1 -0.1  0.9 -4.1  3.9  9.9 -3.1 -4.1 -0.1]\n",
      " [-1.5  5.5 -4.5  2.5 -4.5  3.5 -0.5 -5.5 -0.5  5.5]\n",
      " [ 7.9 -1.1  1.9 -6.1 -8.1  1.9  6.9  6.9 -3.1 -7.1]\n",
      " [ 0.6 -7.4  8.6  7.6  3.6 -0.4 -5.4  2.6 -1.4 -8.4]\n",
      " [-7.4  4.6 -4.4 -5.4 10.6  5.6  1.6  0.6 -8.4  2.6]]\n"
     ]
    }
   ],
   "source": [
    "#58. Subtract the mean of each row of a matrix\n",
    "a = np.random.randint(-10, 10, (5,10))\n",
    "a_ = a - a.mean(axis=1, keepdims=True)\n",
    "print(\"Создаем случайный массив: \\n{}\".format(a))\n",
    "print(\"\\nСреднее каждой строки массива:\")\n",
    "for row in a:\n",
    "    print(row.mean())\n",
    "print(\"\\nНовый массив со средним значением каждой строки, вычтенным из каждого элемента: \\n{}\".format(a_))"
   ]
  },
  {
   "cell_type": "code",
   "execution_count": 127,
   "id": "fba598ce",
   "metadata": {},
   "outputs": [
    {
     "name": "stdout",
     "output_type": "stream",
     "text": [
      "Создаем случайный массив: \n",
      "[[  5  -3  -3]\n",
      " [  4 -10  -9]\n",
      " [  2  -5  -2]]\n",
      "\n",
      "Сортируем по n-ому столбцу \n",
      "[[  4 -10  -9]\n",
      " [  2  -5  -2]\n",
      " [  5  -3  -3]]\n"
     ]
    }
   ],
   "source": [
    "#59. How to sort an array by the nth column?\n",
    "arr = np.random.randint(-10, 10, (3,3))\n",
    "print(\"Создаем случайный массив: \\n{}\\n\".format(arr))\n",
    "print(\"Сортируем по n-ому столбцу \\n{}\".format(arr[arr[:,1].argsort()]))"
   ]
  },
  {
   "cell_type": "code",
   "execution_count": 129,
   "id": "1f26402d",
   "metadata": {},
   "outputs": [
    {
     "name": "stdout",
     "output_type": "stream",
     "text": [
      "[[2 1 2 1 1 1 0 0 2 1]\n",
      " [0 1 1 0 0 0 2 0 1 1]\n",
      " [0 1 2 0 1 2 2 0 2 0]]\n",
      "True\n"
     ]
    }
   ],
   "source": [
    "#60 How to tell if a given 2D array has null columns (columns with all 0s)?\n",
    "a = np.random.randint(0, 3, (3,10))\n",
    "print(a)\n",
    "print((~a.any(axis=0)).any())"
   ]
  },
  {
   "cell_type": "code",
   "execution_count": 130,
   "id": "9691af02",
   "metadata": {},
   "outputs": [
    {
     "name": "stdout",
     "output_type": "stream",
     "text": [
      "[0.8636334  0.62495974 0.21455323 0.83452789 0.82812465 0.23244946\n",
      " 0.12253752 0.5423145  0.16357766 0.0818279 ]\n",
      "0.5423145038970345\n"
     ]
    }
   ],
   "source": [
    "#61. Find the nearest value from a given value in an array\n",
    "a = np.random.rand(10)\n",
    "val = 0.5\n",
    "nearest = a.flat[np.abs(a - val).argmin()]\n",
    "print(a)\n",
    "print(nearest)"
   ]
  },
  {
   "cell_type": "code",
   "execution_count": 131,
   "id": "5589bcdd",
   "metadata": {},
   "outputs": [
    {
     "name": "stdout",
     "output_type": "stream",
     "text": [
      "[[0 1 2]]\n",
      "[[0]\n",
      " [1]\n",
      " [2]]\n",
      "[[0 1 2]\n",
      " [1 2 3]\n",
      " [2 3 4]]\n"
     ]
    }
   ],
   "source": [
    "#62. Considering two arrays with shape (1,3) and (3,1), how to compute their sum using an iterator?\n",
    "a1 = np.arange(3).reshape(1,3)\n",
    "a2 = np.arange(3).reshape(3,1)\n",
    "iterator = np.nditer([a1, a2, None])\n",
    "for x,y,z in iterator:\n",
    "    z[...] = x + y\n",
    "print(a1)\n",
    "print(a2)\n",
    "print(iterator.operands[2])"
   ]
  },
  {
   "cell_type": "code",
   "execution_count": 132,
   "id": "19f7ddbb",
   "metadata": {},
   "outputs": [
    {
     "name": "stdout",
     "output_type": "stream",
     "text": [
      "[2. 2. 3. 4. 4. 2. 4. 4. 2. 3.]\n"
     ]
    }
   ],
   "source": [
    "#64. Consider a given vector, how to add 1 to each element indexed by a second vector (be careful with repeated indices)?\n",
    "a = np.ones(10)\n",
    "I = np.random.randint(0,len(a),20)\n",
    "a += np.bincount(I, minlength=len(a))\n",
    "print(a)"
   ]
  },
  {
   "cell_type": "code",
   "execution_count": 133,
   "id": "113c59b3",
   "metadata": {},
   "outputs": [
    {
     "name": "stdout",
     "output_type": "stream",
     "text": [
      "[0. 7. 0. 6. 5. 0. 0. 0. 0. 3.]\n"
     ]
    }
   ],
   "source": [
    "#65. How to accumulate elements of a vector (X) to an array (F) based on an index list (I)?\n",
    "X = [1,2,3,4,5,6]\n",
    "I = [1,3,9,3,4,1]\n",
    "F = np.bincount(I,X)\n",
    "print(F)"
   ]
  },
  {
   "cell_type": "code",
   "execution_count": 134,
   "id": "1103225a",
   "metadata": {},
   "outputs": [
    {
     "name": "stdout",
     "output_type": "stream",
     "text": [
      "[[48 49 49 62]\n",
      " [51 54 64 36]\n",
      " [52 54 52 57]]\n"
     ]
    }
   ],
   "source": [
    "#67. Considering a four dimensions array, how to get sum over the last two axis at once?\n",
    "a = np.random.randint(0,10,(3,4,3,4))\n",
    "sum = a.sum(axis=(-2,-1))\n",
    "print(sum)"
   ]
  },
  {
   "cell_type": "code",
   "execution_count": 136,
   "id": "0f65afba",
   "metadata": {},
   "outputs": [
    {
     "name": "stdout",
     "output_type": "stream",
     "text": [
      "[0.94740225 0.62489817 0.62140148 1.98517579 1.22188787]\n"
     ]
    }
   ],
   "source": [
    "#69. How to get the diagonal of a dot product?\n",
    "a1 = np.random.uniform(0,1,(5,5))\n",
    "a2 = np.random.uniform(0,1,(5,5))\n",
    "\n",
    "print(np.diag(np.dot(a1, a2)))"
   ]
  },
  {
   "cell_type": "code",
   "execution_count": 137,
   "id": "84d48626",
   "metadata": {},
   "outputs": [
    {
     "name": "stdout",
     "output_type": "stream",
     "text": [
      "[1. 0. 0. 0. 2. 0. 0. 0. 3. 0. 0. 0. 4. 0. 0. 0. 5.]\n"
     ]
    }
   ],
   "source": [
    "#70. Consider the vector [1, 2, 3, 4, 5], how to build a new vector with 3 consecutive zeros interleaved between each value?\n",
    "a = np.array([1,2,3,4,5])\n",
    "z = 3\n",
    "a0 = np.zeros(len(a) + (len(a) - 1) * (z))\n",
    "a0[::z + 1] = a\n",
    "print(a0)"
   ]
  },
  {
   "cell_type": "code",
   "execution_count": 138,
   "id": "ca3a9e6d",
   "metadata": {},
   "outputs": [
    {
     "name": "stdout",
     "output_type": "stream",
     "text": [
      "[[[1. 1. 1.]\n",
      "  [1. 1. 1.]\n",
      "  [1. 1. 1.]\n",
      "  [1. 1. 1.]\n",
      "  [1. 1. 1.]]\n",
      "\n",
      " [[1. 1. 1.]\n",
      "  [1. 1. 1.]\n",
      "  [1. 1. 1.]\n",
      "  [1. 1. 1.]\n",
      "  [1. 1. 1.]]\n",
      "\n",
      " [[1. 1. 1.]\n",
      "  [1. 1. 1.]\n",
      "  [1. 1. 1.]\n",
      "  [1. 1. 1.]\n",
      "  [1. 1. 1.]]\n",
      "\n",
      " [[1. 1. 1.]\n",
      "  [1. 1. 1.]\n",
      "  [1. 1. 1.]\n",
      "  [1. 1. 1.]\n",
      "  [1. 1. 1.]]\n",
      "\n",
      " [[1. 1. 1.]\n",
      "  [1. 1. 1.]\n",
      "  [1. 1. 1.]\n",
      "  [1. 1. 1.]\n",
      "  [1. 1. 1.]]]\n"
     ]
    }
   ],
   "source": [
    "#71. Consider an array of dimension (5,5,3), how to mulitply it by an array with dimensions (5,5)?\n",
    "a1 = np.ones((5,5,3))\n",
    "a2 = np.ones((5,5))\n",
    "print(a1 * a2[:,:,None])"
   ]
  },
  {
   "cell_type": "code",
   "execution_count": 140,
   "id": "8828be12",
   "metadata": {},
   "outputs": [
    {
     "name": "stdout",
     "output_type": "stream",
     "text": [
      "Заданный массив: \n",
      "\n",
      " [[ 3 11  6  5]\n",
      " [10 10  9 12]\n",
      " [18 15  7  5]]\n",
      "А теперь поменяли строки местами: \n",
      "\n",
      "  [[18 15  7  5]\n",
      " [10 10  9 12]\n",
      " [ 3 11  6  5]]\n"
     ]
    }
   ],
   "source": [
    "#72. How to swap two rows of an array?\n",
    "a = np.random.randint(1,20, (3,4))\n",
    "print('Заданный массив: \\n\\n', a)\n",
    "a[[0,2]] = a[[2,0]]\n",
    "print('А теперь поменяли строки местами: \\n\\n ', a)"
   ]
  },
  {
   "cell_type": "code",
   "execution_count": 142,
   "id": "c74d38b7",
   "metadata": {},
   "outputs": [],
   "source": [
    "#73. Consider a set of 10 triplets describing 10 triangles (with shared vertices), find the set of unique line segments composing all the  triangles\n",
    "#??"
   ]
  },
  {
   "cell_type": "code",
   "execution_count": 143,
   "id": "5eb270e8",
   "metadata": {},
   "outputs": [
    {
     "name": "stdout",
     "output_type": "stream",
     "text": [
      "Массив С: \t\t [1 1 1 3 3 4 5 6 8 9]\n",
      "\n",
      "\n",
      " Количество битов массива С: \t\t [0 3 0 2 1 1 1 0 1 1]\n",
      "\n",
      "\n",
      " Размер С 10 и количество битов 10\n",
      "\n",
      "\n",
      "Массив В: \t\t [1 1 1 3 3 4 5 6 8 9]\n"
     ]
    }
   ],
   "source": [
    "#74. Given a sorted array C that corresponds to a bincount, how to produce an array A such that np.bincount(A) == C? \n",
    "sample_array = np.random.randint(1,10, 10)    # Creating any random 1D array.\n",
    "C = np.sort(sample_array)\n",
    "print('Массив С: \\t\\t', C)\n",
    "bin_count = np.bincount(C)\n",
    "\n",
    "print('\\n\\n Количество битов массива С: \\t\\t',bin_count)\n",
    "\n",
    "print(f'\\n\\n Размер С {len(C)} и количество битов {len(bin_count)}')\n",
    "## Now we create A ###\n",
    "\n",
    "if len(C) == len(bin_count):\n",
    "    A = np.repeat(np.arange(len(bin_count)), bin_count)  \n",
    "    print('\\n\\nМассив В: \\t\\t', A)\n",
    "else:\n",
    "    print('\\n\\n Ошиблись с размером, заново..')"
   ]
  },
  {
   "cell_type": "code",
   "execution_count": 151,
   "id": "7a6544f1",
   "metadata": {},
   "outputs": [
    {
     "name": "stdout",
     "output_type": "stream",
     "text": [
      "[[0 1 2]\n",
      " [1 2 3]\n",
      " [2 3 4]\n",
      " [3 4 5]\n",
      " [4 5 6]\n",
      " [5 6 7]\n",
      " [6 7 8]\n",
      " [7 8 9]]\n"
     ]
    }
   ],
   "source": [
    "#76. Consider a one-dimensional array Z, build a two-dimensional array whose first row is (Z[0],Z[1],Z[2]) and each subsequent row is  shifted by 1 (last row should be (Z[-3],Z[-2],Z[-1]) \n",
    "def rolling(a,window):\n",
    "    a_index = np.repeat(np.arange(3).reshape(-1,3),len(a)-window +1,axis = 0) + np.arange(len(a)-window +1)[:,np.newaxis]\n",
    "    return a[a_index]\n",
    "\n",
    "a = rolling(np.arange(10),3)\n",
    "print(a)"
   ]
  },
  {
   "cell_type": "code",
   "execution_count": 156,
   "id": "fa662048",
   "metadata": {},
   "outputs": [
    {
     "name": "stdout",
     "output_type": "stream",
     "text": [
      "[1 1 0 0 0] [False False  True  True  True]\n",
      "False\n",
      "[ 0.30120844 -0.13099002 -0.04228541 -0.53324946 -0.74983142] [-0.30120844  0.13099002  0.04228541  0.53324946  0.74983142]\n"
     ]
    }
   ],
   "source": [
    "#77. How to negate a boolean, or to change the sign of a float inplace?\n",
    "a = np.random.randint(0,2,5)\n",
    "print(a,np.logical_not(a)) # логическое not - 0 из начального массива стали 1\n",
    "#руками можно применить оператор not к каждому элементу массива - это если без numpy\n",
    "a = np.random.uniform(-1.0,1.0,5)\n",
    "print(a,np.negative(a)) #поменяли знак"
   ]
  },
  {
   "cell_type": "code",
   "execution_count": 161,
   "id": "da729190",
   "metadata": {},
   "outputs": [
    {
     "name": "stdout",
     "output_type": "stream",
     "text": [
      "[131227.00776318  64967.61212194   5915.04497321  55890.16638512\n",
      "  98641.42599584  18768.6549865   22319.32703786  73786.63681698\n",
      " 149645.44232627 118778.55588279]\n"
     ]
    }
   ],
   "source": [
    "#78 Consider 2 sets of points P0,P1 describing lines (2d) and a point p, how to compute distance from p to each line i (P0[i],P1[i])?\n",
    "def find_dist(P0, P1, p):\n",
    "  R = P0 - P1 #разница между набором точек\n",
    "  L = (R ** 2).sum(axis = 1)\n",
    "  U = (P1[:,0] - P0[:,0]) * p[:,1] - (P1[:,1] - P0[:,1]) * p[:,0] + P0[:,0] * P1[:,1] - P0[:,1] * P1[:,0]\n",
    "  D = np.sqrt(U ** 2 / L)\n",
    "  return D\n",
    "P0 = np.random.uniform(-1e5,1e5,(10,2))\n",
    "P1 = np.random.uniform(-1e5,1e5,(10,2))\n",
    "p  = np.random.uniform(-1e5,1e5,( 1,2))\n",
    "print(find_dist(P0, P1, p))"
   ]
  },
  {
   "cell_type": "code",
   "execution_count": 162,
   "id": "06458fe9",
   "metadata": {},
   "outputs": [
    {
     "ename": "IndexError",
     "evalue": "too many indices for array: array is 1-dimensional, but 2 were indexed",
     "output_type": "error",
     "traceback": [
      "\u001b[1;31m--------------------------------------------------------------------\u001b[0m",
      "\u001b[1;31mIndexError\u001b[0m                         Traceback (most recent call last)",
      "Input \u001b[1;32mIn [162]\u001b[0m, in \u001b[0;36m<cell line: 6>\u001b[1;34m()\u001b[0m\n\u001b[0;32m      4\u001b[0m P1 \u001b[38;5;241m=\u001b[39m np\u001b[38;5;241m.\u001b[39mrandom\u001b[38;5;241m.\u001b[39muniform(\u001b[38;5;241m-\u001b[39m\u001b[38;5;241m10\u001b[39m,\u001b[38;5;241m10\u001b[39m,(\u001b[38;5;241m10\u001b[39m,\u001b[38;5;241m2\u001b[39m))\n\u001b[0;32m      5\u001b[0m p \u001b[38;5;241m=\u001b[39m np\u001b[38;5;241m.\u001b[39mrandom\u001b[38;5;241m.\u001b[39muniform(\u001b[38;5;241m-\u001b[39m\u001b[38;5;241m10\u001b[39m, \u001b[38;5;241m10\u001b[39m, (\u001b[38;5;241m10\u001b[39m,\u001b[38;5;241m2\u001b[39m))\n\u001b[1;32m----> 6\u001b[0m \u001b[38;5;28mprint\u001b[39m(np\u001b[38;5;241m.\u001b[39marray([find_dist(P0,P1,p_i) \u001b[38;5;28;01mfor\u001b[39;00m p_i \u001b[38;5;129;01min\u001b[39;00m p]))\n",
      "Input \u001b[1;32mIn [162]\u001b[0m, in \u001b[0;36m<listcomp>\u001b[1;34m(.0)\u001b[0m\n\u001b[0;32m      4\u001b[0m P1 \u001b[38;5;241m=\u001b[39m np\u001b[38;5;241m.\u001b[39mrandom\u001b[38;5;241m.\u001b[39muniform(\u001b[38;5;241m-\u001b[39m\u001b[38;5;241m10\u001b[39m,\u001b[38;5;241m10\u001b[39m,(\u001b[38;5;241m10\u001b[39m,\u001b[38;5;241m2\u001b[39m))\n\u001b[0;32m      5\u001b[0m p \u001b[38;5;241m=\u001b[39m np\u001b[38;5;241m.\u001b[39mrandom\u001b[38;5;241m.\u001b[39muniform(\u001b[38;5;241m-\u001b[39m\u001b[38;5;241m10\u001b[39m, \u001b[38;5;241m10\u001b[39m, (\u001b[38;5;241m10\u001b[39m,\u001b[38;5;241m2\u001b[39m))\n\u001b[1;32m----> 6\u001b[0m \u001b[38;5;28mprint\u001b[39m(np\u001b[38;5;241m.\u001b[39marray([\u001b[43mfind_dist\u001b[49m\u001b[43m(\u001b[49m\u001b[43mP0\u001b[49m\u001b[43m,\u001b[49m\u001b[43mP1\u001b[49m\u001b[43m,\u001b[49m\u001b[43mp_i\u001b[49m\u001b[43m)\u001b[49m \u001b[38;5;28;01mfor\u001b[39;00m p_i \u001b[38;5;129;01min\u001b[39;00m p]))\n",
      "Input \u001b[1;32mIn [161]\u001b[0m, in \u001b[0;36mfind_dist\u001b[1;34m(P0, P1, p)\u001b[0m\n\u001b[0;32m      3\u001b[0m R \u001b[38;5;241m=\u001b[39m P0 \u001b[38;5;241m-\u001b[39m P1 \u001b[38;5;66;03m#разница между набором точек\u001b[39;00m\n\u001b[0;32m      4\u001b[0m L \u001b[38;5;241m=\u001b[39m (R \u001b[38;5;241m*\u001b[39m\u001b[38;5;241m*\u001b[39m \u001b[38;5;241m2\u001b[39m)\u001b[38;5;241m.\u001b[39msum(axis \u001b[38;5;241m=\u001b[39m \u001b[38;5;241m1\u001b[39m)\n\u001b[1;32m----> 5\u001b[0m U \u001b[38;5;241m=\u001b[39m (P1[:,\u001b[38;5;241m0\u001b[39m] \u001b[38;5;241m-\u001b[39m P0[:,\u001b[38;5;241m0\u001b[39m])\u001b[38;5;241m*\u001b[39m\u001b[43mp\u001b[49m\u001b[43m[\u001b[49m\u001b[43m:\u001b[49m\u001b[43m,\u001b[49m\u001b[38;5;241;43m1\u001b[39;49m\u001b[43m]\u001b[49m \u001b[38;5;241m-\u001b[39m (P1[:,\u001b[38;5;241m1\u001b[39m] \u001b[38;5;241m-\u001b[39m P0[:,\u001b[38;5;241m1\u001b[39m]) \u001b[38;5;241m*\u001b[39m p[:,\u001b[38;5;241m0\u001b[39m] \u001b[38;5;241m+\u001b[39m P0[:,\u001b[38;5;241m0\u001b[39m] \u001b[38;5;241m*\u001b[39m P1[:,\u001b[38;5;241m1\u001b[39m] \u001b[38;5;241m-\u001b[39m P0[:,\u001b[38;5;241m1\u001b[39m] \u001b[38;5;241m*\u001b[39m P1[:,\u001b[38;5;241m0\u001b[39m]\n\u001b[0;32m      6\u001b[0m D \u001b[38;5;241m=\u001b[39m np\u001b[38;5;241m.\u001b[39msqrt(U \u001b[38;5;241m*\u001b[39m\u001b[38;5;241m*\u001b[39m \u001b[38;5;241m2\u001b[39m \u001b[38;5;241m/\u001b[39m L)\n\u001b[0;32m      7\u001b[0m \u001b[38;5;28;01mreturn\u001b[39;00m D\n",
      "\u001b[1;31mIndexError\u001b[0m: too many indices for array: array is 1-dimensional, but 2 were indexed"
     ]
    }
   ],
   "source": [
    "#79 Consider 2 sets of points P0,P1 describing lines (2d) and a set of points P, how to compute distance from each point j (P[j]) to each line i (P0[i],P1[i])?\n",
    "#Используем функцию из предыдущей задачи"
   ]
  },
  {
   "cell_type": "code",
   "execution_count": 166,
   "id": "e5816bb0",
   "metadata": {},
   "outputs": [
    {
     "name": "stdout",
     "output_type": "stream",
     "text": [
      "10\n"
     ]
    }
   ],
   "source": [
    "#82. Compute a matrix rank\n",
    "a = np.random.uniform(0,1,(10,10))\n",
    "U, S, V = np.linalg.svd(a)\n",
    "rang = np.sum(S > 1e-10)\n",
    "print(rang)"
   ]
  },
  {
   "cell_type": "code",
   "execution_count": null,
   "id": "445e26ef",
   "metadata": {},
   "outputs": [],
   "source": []
  }
 ],
 "metadata": {
  "kernelspec": {
   "display_name": "Python 3 (ipykernel)",
   "language": "python",
   "name": "python3"
  },
  "language_info": {
   "codemirror_mode": {
    "name": "ipython",
    "version": 3
   },
   "file_extension": ".py",
   "mimetype": "text/x-python",
   "name": "python",
   "nbconvert_exporter": "python",
   "pygments_lexer": "ipython3",
   "version": "3.9.12"
  }
 },
 "nbformat": 4,
 "nbformat_minor": 5
}
